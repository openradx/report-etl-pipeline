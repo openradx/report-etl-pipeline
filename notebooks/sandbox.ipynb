{
 "cells": [
  {
   "cell_type": "code",
   "execution_count": 1,
   "metadata": {},
   "outputs": [],
   "source": [
    "import os\n",
    "\n",
    "from adit_client import AditClient\n",
    "from dotenv import load_dotenv\n",
    "\n",
    "load_dotenv()\n",
    "\n",
    "os.environ[\"no_proxy\"] = \"localhost,127.0.0.1,adit.krz.uni-heidelberg.de\"\n",
    "\n",
    "host = os.environ[\"ADIT_HOST\"]\n",
    "token = os.environ[\"ADIT_AUTH_TOKEN\"]"
   ]
  },
  {
   "cell_type": "code",
   "execution_count": 4,
   "metadata": {},
   "outputs": [
    {
     "data": {
      "text/plain": [
       "[(0008, 0005) Specific Character Set              CS: 'ISO_IR 100'\n",
       " (0008, 0020) Study Date                          DA: '20180819'\n",
       " (0008, 0030) Study Time                          TM: '165100'\n",
       " (0008, 0050) Accession Number                    SH: '0062094291'\n",
       " (0008, 0052) Query/Retrieve Level                CS: 'STUDY'\n",
       " (0008, 0054) Retrieve AE Title                   AE: 'ORTHANC1'\n",
       " (0008, 0061) Modalities in Study                 CS: ['MR', 'SR']\n",
       " (0008, 1030) Study Description                   LO: 'MRT-Kopf'\n",
       " (0010, 0010) Patient's Name                      PN: 'Papaya^Pamela'\n",
       " (0010, 0020) Patient ID                          LO: '1005'\n",
       " (0010, 0030) Patient's Birth Date                DA: '19760829'\n",
       " (0020, 000d) Study Instance UID                  UI: 1.2.840.113845.11.1000000001951524609.20200705163958.2689467\n",
       " (0020, 1206) Number of Study Related Series      IS: '5'\n",
       " (0020, 1208) Number of Study Related Instances   IS: '17',\n",
       " (0008, 0005) Specific Character Set              CS: 'ISO_IR 100'\n",
       " (0008, 0020) Study Date                          DA: '20180820'\n",
       " (0008, 0030) Study Time                          TM: '173347'\n",
       " (0008, 0050) Accession Number                    SH: '0062115904'\n",
       " (0008, 0052) Query/Retrieve Level                CS: 'STUDY'\n",
       " (0008, 0054) Retrieve AE Title                   AE: 'ORTHANC1'\n",
       " (0008, 0061) Modalities in Study                 CS: ['CT', 'SR']\n",
       " (0008, 1030) Study Description                   LO: 'CT des Schädels'\n",
       " (0010, 0010) Patient's Name                      PN: 'Papaya^Pamela'\n",
       " (0010, 0020) Patient ID                          LO: '1005'\n",
       " (0010, 0030) Patient's Birth Date                DA: '19760829'\n",
       " (0020, 000d) Study Instance UID                  UI: 1.2.840.113845.11.1000000001951524609.20200705173311.2689472\n",
       " (0020, 1206) Number of Study Related Series      IS: '4'\n",
       " (0020, 1208) Number of Study Related Instances   IS: '11']"
      ]
     },
     "execution_count": 4,
     "metadata": {},
     "output_type": "execute_result"
    }
   ],
   "source": [
    "client = AditClient(host, token)\n",
    "studies = client.search_for_studies(\"ORTHANC1\", {\"PatientID\": \"1005\"})\n",
    "\n",
    "studies"
   ]
  },
  {
   "cell_type": "code",
   "execution_count": 11,
   "metadata": {},
   "outputs": [
    {
     "name": "stdout",
     "output_type": "stream",
     "text": [
      "1980-01-01\n"
     ]
    },
    {
     "data": {
      "text/plain": [
       "{'patient_birth_date': datetime.date(1980, 1, 1),\n",
       " 'study_datetime': datetime.datetime(2024, 2, 15, 7, 55, 3, 67044)}"
      ]
     },
     "execution_count": 11,
     "metadata": {},
     "output_type": "execute_result"
    }
   ],
   "source": [
    "from datetime import date, datetime\n",
    "\n",
    "from pydantic import BaseModel\n",
    "\n",
    "\n",
    "class Study(BaseModel):\n",
    "    patient_birth_date: date\n",
    "    study_datetime: datetime\n",
    "\n",
    "\n",
    "now = datetime.now().isoformat()\n",
    "\n",
    "study = Study(patient_birth_date=\"1980-01-01\", study_datetime=now)\n",
    "\n",
    "print(date(1980, 1, 1).isoformat())\n",
    "\n",
    "study.model_dump()"
   ]
  },
  {
   "cell_type": "code",
   "execution_count": 19,
   "metadata": {},
   "outputs": [
    {
     "data": {
      "text/plain": [
       "[1, 2]"
      ]
     },
     "execution_count": 19,
     "metadata": {},
     "output_type": "execute_result"
    }
   ],
   "source": [
    "from pandas import DataFrame\n",
    "\n",
    "df = DataFrame([{\"a\": 1, \"b\": [1, 2]}, {\"a\": 3, \"b\": [3, 4]}])\n",
    "\n",
    "df[\"b\"][0]"
   ]
  }
 ],
 "metadata": {
  "kernelspec": {
   "display_name": ".venv",
   "language": "python",
   "name": "python3"
  },
  "language_info": {
   "codemirror_mode": {
    "name": "ipython",
    "version": 3
   },
   "file_extension": ".py",
   "mimetype": "text/x-python",
   "name": "python",
   "nbconvert_exporter": "python",
   "pygments_lexer": "ipython3",
   "version": "3.11.4"
  },
  "orig_nbformat": 4
 },
 "nbformat": 4,
 "nbformat_minor": 2
}
